{
 "cells": [
  {
   "cell_type": "code",
   "execution_count": 1,
   "metadata": {
    "ExecuteTime": {
     "start_time": "2023-07-13T21:28:27.973717Z",
     "end_time": "2023-07-13T21:28:35.225807Z"
    }
   },
   "outputs": [
    {
     "name": "stdout",
     "output_type": "stream",
     "text": [
      "[INFO] Using MPS.\n",
      "zsh:1: no matches found: **/.DS_Store\r\n"
     ]
    }
   ],
   "source": [
    "import numpy as np\n",
    "import torch\n",
    "\n",
    "from motclass import MotDataset, build_graph\n",
    "from utilities import get_best_device, save_graph, draw_graph\n",
    "\n",
    "device = get_best_device()\n",
    "\n",
    "mot20_path = \"data/MOT20\"\n",
    "\n",
    "! rm **/.DS_Store\n"
   ]
  },
  {
   "cell_type": "code",
   "execution_count": null,
   "outputs": [],
   "source": [
    "mot20 = MotDataset(dataset_path=mot20_path,\n",
    "\t\t\t\t   split='train',\n",
    "\t\t\t\t   detections_file_folder='gt',\n",
    "\t\t\t\t   detections_file_name='gt.txt',\n",
    "\t\t\t\t   device=device,\n",
    "\t\t\t\t   dtype=torch.float16)\n",
    "\n",
    "track = mot20[3]\n",
    "\n",
    "graph = build_graph(**track.get_data(), device=device, dtype=torch.float16)\n",
    "\n",
    "save_graph(graph, track)\n",
    "\n",
    "# draw_graph(graph, track)\n"
   ],
   "metadata": {
    "collapsed": false,
    "ExecuteTime": {
     "start_time": "2023-07-13T21:25:41.908504Z",
     "end_time": "2023-07-13T21:25:43.861677Z"
    }
   }
  },
  {
   "cell_type": "code",
   "execution_count": 3,
   "outputs": [
    {
     "name": "stdout",
     "output_type": "stream",
     "text": [
      "[INFO] Subtrack #3 (track #0 (frames 60 - 75)\n",
      "[INFO] Track has 15 frames\n"
     ]
    },
    {
     "name": "stderr",
     "output_type": "stream",
     "text": [
      "Reading frame data/MOT20/train/MOT20-03/img1/000075.jpg: 100%|██████████| 15/15 [00:01<00:00, 10.15it/s]\n",
      "Linking all nodes: 100%|██████████| 15/15 [00:00<00:00, 24.45it/s]\n"
     ]
    },
    {
     "name": "stdout",
     "output_type": "stream",
     "text": [
      "[INFO] 15 frames\n",
      "[INFO] 1458 total nodes\n",
      "[INFO] 1984036 total edges\n",
      "[INFO] 100 gt trajectories found\n",
      "[INFO] 2716 total gt edges (100 trajectories)\n",
      "[INFO] Graph saved as saves/MOT20/track_MOT20-03/subtrack_3_len_15.pickle\n"
     ]
    }
   ],
   "source": [
    "mot20 = MotDataset(dataset_path=mot20_path,\n",
    "\t\t\t\t   split='train',\n",
    "\t\t\t\t   subtrack_len=15,\n",
    "\t\t\t\t   detections_file_folder='gt',\n",
    "\t\t\t\t   detections_file_name='gt.txt',\n",
    "\t\t\t\t   device=device,\n",
    "\t\t\t\t   dtype=torch.float16)\n",
    "\n",
    "track = mot20[3]\n",
    "\n",
    "graph = build_graph(**track.get_data(), device=device, dtype=torch.float16)\n",
    "\n",
    "save_graph(graph, track)\n",
    "\n",
    "# draw_graph(graph, track)\n"
   ],
   "metadata": {
    "collapsed": false,
    "ExecuteTime": {
     "start_time": "2023-07-13T21:38:48.980273Z",
     "end_time": "2023-07-13T21:38:56.339089Z"
    }
   }
  },
  {
   "cell_type": "markdown",
   "source": [
    "---"
   ],
   "metadata": {
    "collapsed": false
   }
  },
  {
   "cell_type": "code",
   "execution_count": 59,
   "outputs": [
    {
     "name": "stdout",
     "output_type": "stream",
     "text": [
      "MOT15 [59.55, 136.0]\n",
      "MOT17 [83.52, 234.14]\n",
      "MOT20 [67.75, 154.0]\n"
     ]
    }
   ],
   "source": [
    "mots = [\"MOT15\", \"MOT17\", \"MOT20\"]\n",
    "\n",
    "for mot in mots:\n",
    "\n",
    "\tsizes = list()\n",
    "\n",
    "\tmot20 = MotDataset(f'data/{mot}', 'train', linkage_window=\"ADJACENT\", device=device)\n",
    "\n",
    "\tfor track in mot20:\n",
    "\t\tsizes.append(track._get_avg_size())\n",
    "\n",
    "\t# get avg for each element in the tuple\n",
    "\tavg_sizes = list(map(np.mean, zip(*sizes)))\n",
    "\tavg_sizes = [round(x, 2) for x in avg_sizes]\n",
    "\n",
    "\tprint(mot, avg_sizes)\n",
    "\n",
    "# ~avg across all MOTs: 70x170\n"
   ],
   "metadata": {
    "collapsed": false,
    "ExecuteTime": {
     "start_time": "2023-07-08T09:16:02.247282Z",
     "end_time": "2023-07-08T09:16:03.679679Z"
    }
   }
  },
  {
   "cell_type": "markdown",
   "source": [
    "---"
   ],
   "metadata": {
    "collapsed": false
   }
  }
 ],
 "metadata": {
  "kernelspec": {
   "display_name": "Python 3 (ipykernel)",
   "language": "python",
   "name": "python3"
  },
  "language_info": {
   "codemirror_mode": {
    "name": "ipython",
    "version": 3
   },
   "file_extension": ".py",
   "mimetype": "text/x-python",
   "name": "python",
   "nbconvert_exporter": "python",
   "pygments_lexer": "ipython3",
   "version": "3.10.6"
  }
 },
 "nbformat": 4,
 "nbformat_minor": 1
}
