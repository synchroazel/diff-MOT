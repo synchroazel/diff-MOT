{
 "cells": [
  {
   "cell_type": "code",
   "execution_count": 3,
   "metadata": {
    "ExecuteTime": {
     "start_time": "2023-07-08T16:24:01.950260Z",
     "end_time": "2023-07-08T16:24:02.034945Z"
    }
   },
   "outputs": [
    {
     "name": "stdout",
     "output_type": "stream",
     "text": [
      "[INFO] Using MPS.\n"
     ]
    }
   ],
   "source": [
    "import networkx as nx\n",
    "import numpy as np\n",
    "from torch_geometric.utils import to_networkx\n",
    "\n",
    "from motclass import MotDataset, build_graph\n",
    "from utilities import get_best_device\n",
    "\n",
    "device = get_best_device()\n",
    "\n",
    "# mot20_path = \"/media/dmmp/vid+backup/Data/MOT20/images\"\n",
    "mot20_path = \"data/MOT20\"\n"
   ]
  },
  {
   "cell_type": "code",
   "execution_count": 4,
   "metadata": {
    "ExecuteTime": {
     "start_time": "2023-07-08T16:24:02.334992Z",
     "end_time": "2023-07-08T16:24:02.365830Z"
    }
   },
   "outputs": [],
   "source": [
    "def draw_graph(graph, track):\n",
    "\tG = to_networkx(graph, to_undirected=True)\n",
    "\n",
    "\tn_sum = [0] + list(np.cumsum(track.n_nodes))\n",
    "\n",
    "\tfor i, n in enumerate(track.n_nodes):\n",
    "\t\tfor j in range(n):\n",
    "\t\t\tG.nodes[j + n_sum[i]]['level'] = i\n",
    "\n",
    "\tpos = nx.multipartite_layout(G, subset_key=\"level\")\n",
    "\n",
    "\tnx.draw(G, pos=pos, with_labels=True)\n"
   ]
  },
  {
   "cell_type": "code",
   "execution_count": 33,
   "outputs": [
    {
     "name": "stdout",
     "output_type": "stream",
     "text": [
      "[INFO] Subtrack #1 (track #0 (frames 30 - 45)\n",
      "[INFO] Track has 15 frames\n"
     ]
    },
    {
     "name": "stderr",
     "output_type": "stream",
     "text": [
      "Reading frame data/MOT20/train/MOT20-03/img1/000045.jpg: 100%|██████████| 15/15 [00:00<00:00, 29.53it/s]\n",
      "Linking nodes: 100%|██████████| 15/15 [00:00<00:00, 43.32it/s]\n"
     ]
    },
    {
     "name": "stdout",
     "output_type": "stream",
     "text": [
      "[INFO] 15 frames\n",
      "[INFO] 888 total nodes\n",
      "[INFO] 735886 total edges\n"
     ]
    }
   ],
   "source": [
    "mot20 = MotDataset(mot20_path, 'train', subtrack_len=15, device=device)\n",
    "\n",
    "track = mot20[1]\n",
    "\n",
    "graph = build_graph(**track.get_data(), device=device)\n",
    "\n",
    "# draw_graph(graph, track)\n"
   ],
   "metadata": {
    "collapsed": false,
    "ExecuteTime": {
     "start_time": "2023-07-08T16:46:48.613866Z",
     "end_time": "2023-07-08T16:46:50.459033Z"
    }
   }
  },
  {
   "cell_type": "markdown",
   "source": [
    "---"
   ],
   "metadata": {
    "collapsed": false
   }
  },
  {
   "cell_type": "code",
   "execution_count": 59,
   "outputs": [
    {
     "name": "stdout",
     "output_type": "stream",
     "text": [
      "MOT15 [59.55, 136.0]\n",
      "MOT17 [83.52, 234.14]\n",
      "MOT20 [67.75, 154.0]\n"
     ]
    }
   ],
   "source": [
    "mots = [\"MOT15\", \"MOT17\", \"MOT20\"]\n",
    "\n",
    "for mot in mots:\n",
    "\n",
    "\tsizes = list()\n",
    "\n",
    "\tmot20 = MotDataset(f'data/{mot}', 'train', linkage_window=\"ADJACENT\", device=device)\n",
    "\n",
    "\tfor track in mot20:\n",
    "\t\tsizes.append(track._get_avg_size())\n",
    "\n",
    "\t# get avg for each element in the tuple\n",
    "\tavg_sizes = list(map(np.mean, zip(*sizes)))\n",
    "\tavg_sizes = [round(x, 2) for x in avg_sizes]\n",
    "\n",
    "\tprint(mot, avg_sizes)\n",
    "\n",
    "# ~avg across all MOTs: 70x170\n"
   ],
   "metadata": {
    "collapsed": false,
    "ExecuteTime": {
     "start_time": "2023-07-08T09:16:02.247282Z",
     "end_time": "2023-07-08T09:16:03.679679Z"
    }
   }
  }
 ],
 "metadata": {
  "kernelspec": {
   "display_name": "Python 3 (ipykernel)",
   "language": "python",
   "name": "python3"
  },
  "language_info": {
   "codemirror_mode": {
    "name": "ipython",
    "version": 3
   },
   "file_extension": ".py",
   "mimetype": "text/x-python",
   "name": "python",
   "nbconvert_exporter": "python",
   "pygments_lexer": "ipython3",
   "version": "3.10.6"
  }
 },
 "nbformat": 4,
 "nbformat_minor": 1
}
