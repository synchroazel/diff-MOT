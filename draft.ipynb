{
 "cells": [
  {
   "cell_type": "code",
   "execution_count": 1,
   "metadata": {
    "ExecuteTime": {
     "start_time": "2023-07-06T12:19:32.629600Z",
     "end_time": "2023-07-06T12:19:38.552908Z"
    }
   },
   "outputs": [
    {
     "name": "stdout",
     "output_type": "stream",
     "text": [
      "[INFO] Using MPS.\n"
     ]
    }
   ],
   "source": [
    "import networkx as nx\n",
    "import numpy as np\n",
    "from torch_geometric.utils import to_networkx\n",
    "import torch_geometric.data as pyg_data\n",
    "\n",
    "from motclass import MotDataset, build_graph\n",
    "from utilities import get_best_device\n",
    "\n",
    "device = get_best_device()\n",
    "\n",
    "# mot20_path = \"/media/dmmp/vid+backup/Data/MOT20/images\"\n",
    "mot20_path = \"data/MOT20\"\n"
   ]
  },
  {
   "cell_type": "code",
   "execution_count": 2,
   "metadata": {
    "ExecuteTime": {
     "start_time": "2023-07-06T12:19:38.554963Z",
     "end_time": "2023-07-06T12:19:38.585409Z"
    }
   },
   "outputs": [],
   "source": [
    "def draw_graph(graph, track):\n",
    "\tG = to_networkx(graph, to_undirected=True)\n",
    "\n",
    "\tn_sum = [0] + list(np.cumsum(track.n_nodes))\n",
    "\n",
    "\tfor i, n in enumerate(track.n_nodes):\n",
    "\t\tfor j in range(n):\n",
    "\t\t\tG.nodes[j + n_sum[i]]['level'] = i\n",
    "\n",
    "\tpos = nx.multipartite_layout(G, subset_key=\"level\")\n",
    "\n",
    "\tnx.draw(G, pos=pos, with_labels=True)\n"
   ]
  },
  {
   "cell_type": "code",
   "execution_count": null,
   "outputs": [],
   "source": [
    "mot20 = MotDataset(mot20_path, 'train', linkage_type=\"ADJACENT\", device=device)\n",
    "\n",
    "track = mot20[0]\n",
    "\n",
    "adj_list, node_feats, frame_times, edge_attr = track.get_data()\n",
    "\n",
    "del track\n"
   ],
   "metadata": {
    "collapsed": false,
    "ExecuteTime": {
     "start_time": "2023-07-06T12:29:36.354235Z",
     "end_time": "2023-07-06T12:29:37.112950Z"
    }
   }
  },
  {
   "cell_type": "code",
   "execution_count": null,
   "outputs": [],
   "source": [
    "graph = build_graph(adjacency_list=adj_list,\n",
    "\t\t\t\t\tflattened_node=node_feats,\n",
    "\t\t\t\t\tframe_times=frame_times,\n",
    "\t\t\t\t\tedge_partial_attributes=edge_attr,\n",
    "\t\t\t\t\tfeature_extractor='resnet101',\n",
    "\t\t\t\t\tdevice=device)\n"
   ],
   "metadata": {
    "collapsed": false,
    "ExecuteTime": {
     "start_time": "2023-07-06T12:28:11.021961Z",
     "end_time": "2023-07-06T12:29:09.248311Z"
    }
   }
  }
 ],
 "metadata": {
  "kernelspec": {
   "display_name": "Python 3 (ipykernel)",
   "language": "python",
   "name": "python3"
  },
  "language_info": {
   "codemirror_mode": {
    "name": "ipython",
    "version": 3
   },
   "file_extension": ".py",
   "mimetype": "text/x-python",
   "name": "python",
   "nbconvert_exporter": "python",
   "pygments_lexer": "ipython3",
   "version": "3.10.6"
  }
 },
 "nbformat": 4,
 "nbformat_minor": 1
}
