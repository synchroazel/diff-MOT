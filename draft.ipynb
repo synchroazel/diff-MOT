{
 "cells": [
  {
   "cell_type": "code",
   "execution_count": 9,
   "metadata": {
    "ExecuteTime": {
     "start_time": "2023-07-09T17:33:54.768251Z",
     "end_time": "2023-07-09T17:33:54.812862Z"
    }
   },
   "outputs": [
    {
     "name": "stdout",
     "output_type": "stream",
     "text": [
      "[INFO] Using MPS.\n"
     ]
    }
   ],
   "source": [
    "import numpy as np\n",
    "import torch\n",
    "\n",
    "from motclass import MotDataset, build_graph\n",
    "from utilities import get_best_device, save_graph\n",
    "\n",
    "device = get_best_device()\n",
    "\n",
    "mot20_path = \"data/MOT20\"\n"
   ]
  },
  {
   "cell_type": "code",
   "execution_count": 108,
   "outputs": [
    {
     "name": "stdout",
     "output_type": "stream",
     "text": [
      "[INFO] Track has 429 frames\n"
     ]
    },
    {
     "name": "stderr",
     "output_type": "stream",
     "text": [
      "Reading frame data/MOT20/train/MOT20-01/img1/000429.jpg: 100%|██████████| 429/429 [00:22<00:00, 19.04it/s]\n",
      "Linking nodes: 100%|██████████| 429/429 [02:47<00:00,  2.56it/s]\n"
     ]
    },
    {
     "name": "stdout",
     "output_type": "stream",
     "text": [
      "[INFO] 429 frames\n",
      "[INFO] 12610 total nodes\n",
      "[INFO] 158638662 total edges\n",
      "[INFO] Graph saved as saves/MOT20/track_MOT20-01/track_MOT20-01.pickle\n"
     ]
    }
   ],
   "source": [
    "mot20 = MotDataset(mot20_path, 'train', device=device, dtype=torch.float16)\n",
    "\n",
    "track = mot20[3]\n",
    "\n",
    "graph = build_graph(**track.get_data(), device=device, dtype=torch.float16)\n",
    "\n",
    "# draw_graph(graph, track)\n",
    "\n",
    "save_graph(graph, track)\n"
   ],
   "metadata": {
    "collapsed": false,
    "ExecuteTime": {
     "start_time": "2023-07-09T18:49:16.745252Z",
     "end_time": "2023-07-09T18:53:23.692377Z"
    }
   }
  },
  {
   "cell_type": "code",
   "execution_count": 109,
   "outputs": [
    {
     "name": "stdout",
     "output_type": "stream",
     "text": [
      "[INFO] Subtrack #3 (track #0 (frames 60 - 75)\n",
      "[INFO] Track has 15 frames\n"
     ]
    },
    {
     "name": "stderr",
     "output_type": "stream",
     "text": [
      "Reading frame data/MOT20/train/MOT20-03/img1/000075.jpg: 100%|██████████| 15/15 [00:01<00:00, 14.29it/s]\n",
      "Linking nodes: 100%|██████████| 15/15 [00:00<00:00, 192.06it/s]\n"
     ]
    },
    {
     "name": "stdout",
     "output_type": "stream",
     "text": [
      "[INFO] 15 frames\n",
      "[INFO] 875 total nodes\n",
      "[INFO] 714492 total edges\n",
      "[INFO] Graph saved as saves/MOT20/track_MOT20-03/subtrack_3_len_15.pickle\n"
     ]
    }
   ],
   "source": [
    "mot20 = MotDataset(mot20_path, 'train', subtrack_len=15, device=device, dtype=torch.float16)\n",
    "\n",
    "track = mot20[3]\n",
    "\n",
    "graph = build_graph(**track.get_data(), device=device, dtype=torch.float16)\n",
    "\n",
    "# draw_graph(graph, track)\n",
    "\n",
    "save_graph(graph, track)\n"
   ],
   "metadata": {
    "collapsed": false,
    "ExecuteTime": {
     "start_time": "2023-07-09T18:53:23.666457Z",
     "end_time": "2023-07-09T18:53:25.676493Z"
    }
   }
  },
  {
   "cell_type": "markdown",
   "source": [
    "---"
   ],
   "metadata": {
    "collapsed": false
   }
  },
  {
   "cell_type": "code",
   "execution_count": 59,
   "outputs": [
    {
     "name": "stdout",
     "output_type": "stream",
     "text": [
      "MOT15 [59.55, 136.0]\n",
      "MOT17 [83.52, 234.14]\n",
      "MOT20 [67.75, 154.0]\n"
     ]
    }
   ],
   "source": [
    "mots = [\"MOT15\", \"MOT17\", \"MOT20\"]\n",
    "\n",
    "for mot in mots:\n",
    "\n",
    "\tsizes = list()\n",
    "\n",
    "\tmot20 = MotDataset(f'data/{mot}', 'train', linkage_window=\"ADJACENT\", device=device)\n",
    "\n",
    "\tfor track in mot20:\n",
    "\t\tsizes.append(track._get_avg_size())\n",
    "\n",
    "\t# get avg for each element in the tuple\n",
    "\tavg_sizes = list(map(np.mean, zip(*sizes)))\n",
    "\tavg_sizes = [round(x, 2) for x in avg_sizes]\n",
    "\n",
    "\tprint(mot, avg_sizes)\n",
    "\n",
    "# ~avg across all MOTs: 70x170\n"
   ],
   "metadata": {
    "collapsed": false,
    "ExecuteTime": {
     "start_time": "2023-07-08T09:16:02.247282Z",
     "end_time": "2023-07-08T09:16:03.679679Z"
    }
   }
  }
 ],
 "metadata": {
  "kernelspec": {
   "display_name": "Python 3 (ipykernel)",
   "language": "python",
   "name": "python3"
  },
  "language_info": {
   "codemirror_mode": {
    "name": "ipython",
    "version": 3
   },
   "file_extension": ".py",
   "mimetype": "text/x-python",
   "name": "python",
   "nbconvert_exporter": "python",
   "pygments_lexer": "ipython3",
   "version": "3.10.6"
  }
 },
 "nbformat": 4,
 "nbformat_minor": 1
}
