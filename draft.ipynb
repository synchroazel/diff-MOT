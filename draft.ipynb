{
 "cells": [
  {
   "cell_type": "code",
   "execution_count": 1,
   "metadata": {
    "ExecuteTime": {
     "start_time": "2023-07-16T20:56:57.825629Z",
     "end_time": "2023-07-16T20:56:59.666799Z"
    }
   },
   "outputs": [
    {
     "name": "stdout",
     "output_type": "stream",
     "text": [
      "[INFO] Using MPS.\n"
     ]
    }
   ],
   "source": [
    "import torch\n",
    "from torch_geometric.transforms import ToDevice\n",
    "from tqdm import tqdm\n",
    "\n",
    "from model import Net\n",
    "from motclass import MotDataset, build_graph\n",
    "from utilities import get_best_device, save_graph\n",
    "\n",
    "device = get_best_device()\n",
    "\n",
    "mot20_path = \"data/MOT20\"\n"
   ]
  },
  {
   "cell_type": "code",
   "execution_count": 15,
   "outputs": [
    {
     "name": "stdout",
     "output_type": "stream",
     "text": [
      "[INFO] Track has 429 frames\n"
     ]
    },
    {
     "name": "stderr",
     "output_type": "stream",
     "text": [
      "Reading frame data/MOT20/train/MOT20-01/img1/000429.jpg: 100%|██████████| 429/429 [00:39<00:00, 10.87it/s]\n",
      "Linking all nodes: 100%|██████████| 429/429 [00:33<00:00, 12.92it/s]\n"
     ]
    },
    {
     "name": "stdout",
     "output_type": "stream",
     "text": [
      "[INFO] 429 frames\n",
      "[INFO] 26647 total nodes\n",
      "[INFO] 52432408 total edges\n",
      "[INFO] 90 gt trajectories found\n",
      "[INFO] 53114 total gt edges (90 trajectories)\n",
      "[INFO] Graph saved as saves/MOT20/track_MOT20-01/window_16.pickle\n"
     ]
    }
   ],
   "source": [
    "mot20 = MotDataset(dataset_path=mot20_path,\n",
    "\t\t\t\t   split='train',\n",
    "\t\t\t\t   linkage_window=15,\n",
    "\t\t\t\t   detections_file_folder='gt',\n",
    "\t\t\t\t   detections_file_name='gt.txt',\n",
    "\t\t\t\t   device=device,\n",
    "\t\t\t\t   dl_mode=False,\n",
    "\t\t\t\t   dtype=torch.float32)\n",
    "\n",
    "track = mot20[3]\n",
    "\n",
    "graph = build_graph(**track.get_data(), device=device, dtype=torch.float32)\n",
    "\n",
    "save_graph(graph, track)\n"
   ],
   "metadata": {
    "collapsed": false,
    "ExecuteTime": {
     "start_time": "2023-07-14T17:29:18.788806Z",
     "end_time": "2023-07-14T17:30:59.719688Z"
    }
   }
  },
  {
   "cell_type": "code",
   "execution_count": 5,
   "outputs": [
    {
     "name": "stderr",
     "output_type": "stream",
     "text": [
      "[INFO] Batch #3 | track #1 (frames 3/2405 - 18/2405)\n",
      "[INFO] Track has 15 frames\n",
      "[TQDM] Reading frame data/MOT20/train/MOT20-03/img1/000018.jpg: 100%|██████████| 15/15 [00:01<00:00,  9.09it/s]\n",
      "[TQDM] Linking all nodes: 100%|██████████| 15/15 [00:00<00:00, 26.73it/s]\n",
      "[INFO] 15 frames\n",
      "[INFO] 1402 total nodes\n",
      "[INFO] 1834544 total edges\n",
      "[INFO] 95 gt trajectories found\n",
      "[INFO] 2614 total gt edges (95 trajectories)\n"
     ]
    },
    {
     "name": "stdout",
     "output_type": "stream",
     "text": [
      "[INFO] Graph saved as saves/MOT20/track_MOT20-03/subtrack_3_len_15.pickle\n"
     ]
    }
   ],
   "source": [
    "mot20 = MotDataset(dataset_path=mot20_path,\n",
    "\t\t\t\t   split='train',\n",
    "\t\t\t\t   subtrack_len=15,\n",
    "\t\t\t\t   detections_file_folder='gt',\n",
    "\t\t\t\t   detections_file_name='gt.txt',\n",
    "\t\t\t\t   device=device,\n",
    "\t\t\t\t   dl_mode=False,\n",
    "\t\t\t\t   dtype=torch.float32)\n",
    "\n",
    "track = mot20[3]\n",
    "\n",
    "graph = build_graph(**track.get_data(), device=device, dtype=torch.float32)\n",
    "\n",
    "save_graph(graph, track)\n"
   ],
   "metadata": {
    "collapsed": false,
    "ExecuteTime": {
     "start_time": "2023-07-15T15:29:51.668288Z",
     "end_time": "2023-07-15T15:30:04.592556Z"
    }
   }
  },
  {
   "cell_type": "markdown",
   "source": [
    "---"
   ],
   "metadata": {
    "collapsed": false
   }
  },
  {
   "cell_type": "code",
   "execution_count": 6,
   "outputs": [],
   "source": [
    "# Try out the network\n",
    "\n",
    "model = Net(backbone='resnet50', channels=128).to(device)\n",
    "\n",
    "model = model.to(device)\n",
    "graph = ToDevice(device.type)(graph)\n",
    "\n",
    "out = model(graph)\n"
   ],
   "metadata": {
    "collapsed": false,
    "ExecuteTime": {
     "start_time": "2023-07-15T15:30:07.008645Z",
     "end_time": "2023-07-15T15:30:09.863487Z"
    }
   }
  },
  {
   "cell_type": "code",
   "execution_count": null,
   "outputs": [],
   "source": [
    "def train(model, train_loader, loss_function, optimizer, epochs, device):\n",
    "\tmodel = model.to(device)\n",
    "\tmodel.train()\n",
    "\n",
    "\tpbar = tqdm(range(epochs))\n",
    "\n",
    "\tfor epoch in pbar:\n",
    "\n",
    "\t\tepoch_loss = 0\n",
    "\t\tfor i, data in enumerate(train_loader):\n",
    "\n",
    "\t\t\tdata = ToDevice(device.type)(data)\n",
    "\t\t\t# data = data.to(device)\n",
    "\n",
    "\t\t\t# Forward pass\n",
    "\t\t\tpred_edges = model(data)  # Get the predicted edge labels\n",
    "\t\t\tgt_edges = data.y  # Get the true edge labels\n",
    "\n",
    "\t\t\tloss = loss_function(pred_edges, gt_edges)\n",
    "\n",
    "\t\t\tprint(\"Loss computed\")\n",
    "\n",
    "\t\t\t# Backward and optimize\n",
    "\t\t\toptimizer.zero_grad()\n",
    "\t\t\tloss.backward()\n",
    "\t\t\toptimizer.step()\n",
    "\n",
    "\t\t\tepoch_loss += loss.item()\n",
    "\n",
    "\t\tprint(f'Epoch {epoch + 1}, Loss: {epoch_loss / i}')\n",
    "\n",
    "\n",
    "# Hyperparameters\n",
    "backbone = 'resnet50'\n",
    "l_size = 128\n",
    "epochs = 10\n",
    "learning_rate = 0.001\n",
    "\n",
    "model = Net(backbone, l_size)\n",
    "\n",
    "loss_function = torch.nn.BCELoss()\n",
    "optimizer = torch.optim.Adam(model.parameters(), lr=learning_rate)\n",
    "\n",
    "mo20_train_dl = MotDataset(dataset_path=mot20_path,\n",
    "\t\t\t\t\t\t   split='train',\n",
    "\t\t\t\t\t\t   subtrack_len=3,\n",
    "\t\t\t\t\t\t   linkage_window=0,\n",
    "\t\t\t\t\t\t   detections_file_folder='gt',\n",
    "\t\t\t\t\t\t   detections_file_name='gt.txt',\n",
    "\t\t\t\t\t\t   device=device,\n",
    "\t\t\t\t\t\t   dl_mode=True,\n",
    "\t\t\t\t\t\t   dtype=torch.float32)\n",
    "\n",
    "x,y = train(model, mo20_train_dl, loss_function, optimizer, epochs, device)\n"
   ],
   "metadata": {
    "collapsed": false,
    "ExecuteTime": {
     "start_time": "2023-07-15T15:35:30.103584Z",
     "end_time": "2023-07-15T15:35:36.558944Z"
    }
   }
  },
  {
   "cell_type": "markdown",
   "source": [
    "---"
   ],
   "metadata": {
    "collapsed": false
   }
  },
  {
   "cell_type": "code",
   "execution_count": 37,
   "outputs": [],
   "source": [
    "mot17 = MotDataset(dataset_path='data/MOT17',\n",
    "\t\t\t\t   split='train',\n",
    "\t\t\t\t   subtrack_len=15,\n",
    "\t\t\t\t   slide=15,\n",
    "\t\t\t\t   detections_file_folder='gt',\n",
    "\t\t\t\t   detections_file_name='gt.txt',\n",
    "\t\t\t\t   device=device,\n",
    "\t\t\t\t   dl_mode=False,\n",
    "\t\t\t\t   dtype=torch.float32)\n"
   ],
   "metadata": {
    "collapsed": false,
    "ExecuteTime": {
     "start_time": "2023-07-16T23:07:16.878452Z",
     "end_time": "2023-07-16T23:07:16.936291Z"
    }
   }
  },
  {
   "cell_type": "code",
   "execution_count": null,
   "outputs": [],
   "source": [],
   "metadata": {
    "collapsed": false
   }
  },
  {
   "cell_type": "code",
   "execution_count": null,
   "outputs": [],
   "source": [
    "ret = 0\n",
    "for nf in mot17.frames_per_track:\n",
    "\tret += nf//15\n",
    "\n",
    "print(ret)"
   ],
   "metadata": {
    "collapsed": false
   }
  }
 ],
 "metadata": {
  "kernelspec": {
   "display_name": "Python 3 (ipykernel)",
   "language": "python",
   "name": "python3"
  },
  "language_info": {
   "codemirror_mode": {
    "name": "ipython",
    "version": 3
   },
   "file_extension": ".py",
   "mimetype": "text/x-python",
   "name": "python",
   "nbconvert_exporter": "python",
   "pygments_lexer": "ipython3",
   "version": "3.10.6"
  }
 },
 "nbformat": 4,
 "nbformat_minor": 1
}
